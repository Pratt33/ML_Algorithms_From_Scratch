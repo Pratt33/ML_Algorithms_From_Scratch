{
  "nbformat": 4,
  "nbformat_minor": 0,
  "metadata": {
    "colab": {
      "provenance": [],
      "authorship_tag": "ABX9TyN+U62p/tsWN0U7SzcQRkMf",
      "include_colab_link": true
    },
    "kernelspec": {
      "name": "python3",
      "display_name": "Python 3"
    },
    "language_info": {
      "name": "python"
    }
  },
  "cells": [
    {
      "cell_type": "markdown",
      "metadata": {
        "id": "view-in-github",
        "colab_type": "text"
      },
      "source": [
        "<a href=\"https://colab.research.google.com/github/Pratt33/ML_Algorithms_From_Scratch/blob/main/Linear_Regression_From_Scratch.ipynb\" target=\"_parent\"><img src=\"https://colab.research.google.com/assets/colab-badge.svg\" alt=\"Open In Colab\"/></a>"
      ]
    },
    {
      "cell_type": "markdown",
      "source": [
        "#Problem Statement\n",
        "\n",
        "Aim to build a simple linear regression model from scratch to predict the package (in LPA) offered to students based on their CGPA."
      ],
      "metadata": {
        "id": "teCqW7Sbrtwh"
      }
    },
    {
      "cell_type": "markdown",
      "source": [
        "#Objective\n",
        "\n",
        "1. Develop a linear regression model without using external libraries like scikit-learn for training.\n",
        "\n",
        "2. Train the model on a dataset of CGPA and corresponding packages.\n",
        "\n",
        "3. Evaluate the model's performance and visualize the regression line."
      ],
      "metadata": {
        "id": "xmB3OQSlr2xY"
      }
    },
    {
      "cell_type": "markdown",
      "source": [
        "#Approach\n",
        "\n",
        "1. Implement a custom linear regression class (MyLR).\n",
        "\n",
        "2. Use the least squares method to compute the slope (m) and intercept (b) of the regression line.\n",
        "\n",
        "3. Split the dataset into training and testing sets.\n",
        "\n",
        "4. Train the model on the training data and use it to predict packages for the testing data.\n",
        "\n",
        "5. Visualize the training data and the regression line."
      ],
      "metadata": {
        "id": "UPaH3x5OsVIp"
      }
    },
    {
      "cell_type": "code",
      "execution_count": 1,
      "metadata": {
        "id": "Zo4KF4K8e6gG"
      },
      "outputs": [],
      "source": [
        "import numpy as np\n",
        "import pandas as pd\n",
        "import matplotlib.pyplot as plt\n",
        "from sklearn.model_selection import train_test_split"
      ]
    },
    {
      "cell_type": "code",
      "source": [
        "# Define the MyLR class for linear regression\n",
        "class MyLR:\n",
        "    def __init__(self):\n",
        "        # Initialize the slope (m) and intercept (b) as None\n",
        "        self.m = None\n",
        "        self.b = None\n",
        "\n",
        "    def fit(self, X_train, y_train):\n",
        "        \"\"\"\n",
        "        Train the linear regression model using the least squares method.\n",
        "        Arguments:\n",
        "        - X_train: Training input features (independent variable).\n",
        "        - y_train: Training target values (dependent variable).\n",
        "        \"\"\"\n",
        "        num = 0  # Numerator for slope calculation\n",
        "        den = 0  # Denominator for slope calculation\n",
        "\n",
        "        for i in range(X_train.shape[0]):\n",
        "            # Calculate the deviation of X and y from their means\n",
        "            A = X_train[i] - X_train.mean()\n",
        "            B = y_train[i] - y_train.mean()\n",
        "\n",
        "            # Update numerator and denominator\n",
        "            num += (A * B)\n",
        "            den += (A ** 2)\n",
        "\n",
        "        # Compute slope (m) and intercept (b)\n",
        "        self.m = num / den\n",
        "        self.b = y_train.mean() - (self.m * X_train.mean())\n",
        "\n",
        "        # Print the computed slope and intercept\n",
        "        print(\"Slope (m):\", self.m)\n",
        "        print(\"Intercept (b):\", self.b)\n",
        "\n",
        "    def predict(self, X_test):\n",
        "        \"\"\"\n",
        "        Predict the target values for the given test data.\n",
        "        Arguments:\n",
        "        - X_test: Test input features (independent variable).\n",
        "        Returns:\n",
        "        - Predicted target values.\n",
        "        \"\"\"\n",
        "        return self.m * X_test + self.b"
      ],
      "metadata": {
        "id": "gr3DQ286kLWt"
      },
      "execution_count": 2,
      "outputs": []
    },
    {
      "cell_type": "code",
      "source": [
        "# Creating the dataset\n",
        "data = {\n",
        "    \"CGPA\": [8.5, 9.0, 7.8, 8.2, 9.3, 8.7, 8.2, 7.5, 9.5, 8.8, 7.9, 8.1, 8.4, 9.1, 9.0],\n",
        "    \"Package (LPA)\": [6, 8, 5, 7, 10, 8.7, 8, 5.5, 11, 9, 6, 7.2, 7.5, 10.5, 8.5]\n",
        "}\n",
        "\n",
        "# Convert the data into a DataFrame\n",
        "df = pd.DataFrame(data)"
      ],
      "metadata": {
        "id": "KPoV5Ht3kd_4"
      },
      "execution_count": 3,
      "outputs": []
    },
    {
      "cell_type": "code",
      "source": [
        "# Display the first few rows of the dataset\n",
        "print(\"Dataset:\")\n",
        "df.head()"
      ],
      "metadata": {
        "id": "Pv0aX59ilbHE",
        "outputId": "ca999609-d03e-4a6e-f9ea-fd6a6f92cd91",
        "colab": {
          "base_uri": "https://localhost:8080/",
          "height": 223
        }
      },
      "execution_count": 4,
      "outputs": [
        {
          "output_type": "stream",
          "name": "stdout",
          "text": [
            "Dataset:\n"
          ]
        },
        {
          "output_type": "execute_result",
          "data": {
            "text/plain": [
              "   CGPA  Package (LPA)\n",
              "0   8.5            6.0\n",
              "1   9.0            8.0\n",
              "2   7.8            5.0\n",
              "3   8.2            7.0\n",
              "4   9.3           10.0"
            ],
            "text/html": [
              "\n",
              "  <div id=\"df-b55dce2d-4dc6-4eb8-9a69-ebeeea9cfd86\" class=\"colab-df-container\">\n",
              "    <div>\n",
              "<style scoped>\n",
              "    .dataframe tbody tr th:only-of-type {\n",
              "        vertical-align: middle;\n",
              "    }\n",
              "\n",
              "    .dataframe tbody tr th {\n",
              "        vertical-align: top;\n",
              "    }\n",
              "\n",
              "    .dataframe thead th {\n",
              "        text-align: right;\n",
              "    }\n",
              "</style>\n",
              "<table border=\"1\" class=\"dataframe\">\n",
              "  <thead>\n",
              "    <tr style=\"text-align: right;\">\n",
              "      <th></th>\n",
              "      <th>CGPA</th>\n",
              "      <th>Package (LPA)</th>\n",
              "    </tr>\n",
              "  </thead>\n",
              "  <tbody>\n",
              "    <tr>\n",
              "      <th>0</th>\n",
              "      <td>8.5</td>\n",
              "      <td>6.0</td>\n",
              "    </tr>\n",
              "    <tr>\n",
              "      <th>1</th>\n",
              "      <td>9.0</td>\n",
              "      <td>8.0</td>\n",
              "    </tr>\n",
              "    <tr>\n",
              "      <th>2</th>\n",
              "      <td>7.8</td>\n",
              "      <td>5.0</td>\n",
              "    </tr>\n",
              "    <tr>\n",
              "      <th>3</th>\n",
              "      <td>8.2</td>\n",
              "      <td>7.0</td>\n",
              "    </tr>\n",
              "    <tr>\n",
              "      <th>4</th>\n",
              "      <td>9.3</td>\n",
              "      <td>10.0</td>\n",
              "    </tr>\n",
              "  </tbody>\n",
              "</table>\n",
              "</div>\n",
              "    <div class=\"colab-df-buttons\">\n",
              "\n",
              "  <div class=\"colab-df-container\">\n",
              "    <button class=\"colab-df-convert\" onclick=\"convertToInteractive('df-b55dce2d-4dc6-4eb8-9a69-ebeeea9cfd86')\"\n",
              "            title=\"Convert this dataframe to an interactive table.\"\n",
              "            style=\"display:none;\">\n",
              "\n",
              "  <svg xmlns=\"http://www.w3.org/2000/svg\" height=\"24px\" viewBox=\"0 -960 960 960\">\n",
              "    <path d=\"M120-120v-720h720v720H120Zm60-500h600v-160H180v160Zm220 220h160v-160H400v160Zm0 220h160v-160H400v160ZM180-400h160v-160H180v160Zm440 0h160v-160H620v160ZM180-180h160v-160H180v160Zm440 0h160v-160H620v160Z\"/>\n",
              "  </svg>\n",
              "    </button>\n",
              "\n",
              "  <style>\n",
              "    .colab-df-container {\n",
              "      display:flex;\n",
              "      gap: 12px;\n",
              "    }\n",
              "\n",
              "    .colab-df-convert {\n",
              "      background-color: #E8F0FE;\n",
              "      border: none;\n",
              "      border-radius: 50%;\n",
              "      cursor: pointer;\n",
              "      display: none;\n",
              "      fill: #1967D2;\n",
              "      height: 32px;\n",
              "      padding: 0 0 0 0;\n",
              "      width: 32px;\n",
              "    }\n",
              "\n",
              "    .colab-df-convert:hover {\n",
              "      background-color: #E2EBFA;\n",
              "      box-shadow: 0px 1px 2px rgba(60, 64, 67, 0.3), 0px 1px 3px 1px rgba(60, 64, 67, 0.15);\n",
              "      fill: #174EA6;\n",
              "    }\n",
              "\n",
              "    .colab-df-buttons div {\n",
              "      margin-bottom: 4px;\n",
              "    }\n",
              "\n",
              "    [theme=dark] .colab-df-convert {\n",
              "      background-color: #3B4455;\n",
              "      fill: #D2E3FC;\n",
              "    }\n",
              "\n",
              "    [theme=dark] .colab-df-convert:hover {\n",
              "      background-color: #434B5C;\n",
              "      box-shadow: 0px 1px 3px 1px rgba(0, 0, 0, 0.15);\n",
              "      filter: drop-shadow(0px 1px 2px rgba(0, 0, 0, 0.3));\n",
              "      fill: #FFFFFF;\n",
              "    }\n",
              "  </style>\n",
              "\n",
              "    <script>\n",
              "      const buttonEl =\n",
              "        document.querySelector('#df-b55dce2d-4dc6-4eb8-9a69-ebeeea9cfd86 button.colab-df-convert');\n",
              "      buttonEl.style.display =\n",
              "        google.colab.kernel.accessAllowed ? 'block' : 'none';\n",
              "\n",
              "      async function convertToInteractive(key) {\n",
              "        const element = document.querySelector('#df-b55dce2d-4dc6-4eb8-9a69-ebeeea9cfd86');\n",
              "        const dataTable =\n",
              "          await google.colab.kernel.invokeFunction('convertToInteractive',\n",
              "                                                    [key], {});\n",
              "        if (!dataTable) return;\n",
              "\n",
              "        const docLinkHtml = 'Like what you see? Visit the ' +\n",
              "          '<a target=\"_blank\" href=https://colab.research.google.com/notebooks/data_table.ipynb>data table notebook</a>'\n",
              "          + ' to learn more about interactive tables.';\n",
              "        element.innerHTML = '';\n",
              "        dataTable['output_type'] = 'display_data';\n",
              "        await google.colab.output.renderOutput(dataTable, element);\n",
              "        const docLink = document.createElement('div');\n",
              "        docLink.innerHTML = docLinkHtml;\n",
              "        element.appendChild(docLink);\n",
              "      }\n",
              "    </script>\n",
              "  </div>\n",
              "\n",
              "\n",
              "<div id=\"df-94c4a800-55b8-4e91-8db9-62cb88b0866a\">\n",
              "  <button class=\"colab-df-quickchart\" onclick=\"quickchart('df-94c4a800-55b8-4e91-8db9-62cb88b0866a')\"\n",
              "            title=\"Suggest charts\"\n",
              "            style=\"display:none;\">\n",
              "\n",
              "<svg xmlns=\"http://www.w3.org/2000/svg\" height=\"24px\"viewBox=\"0 0 24 24\"\n",
              "     width=\"24px\">\n",
              "    <g>\n",
              "        <path d=\"M19 3H5c-1.1 0-2 .9-2 2v14c0 1.1.9 2 2 2h14c1.1 0 2-.9 2-2V5c0-1.1-.9-2-2-2zM9 17H7v-7h2v7zm4 0h-2V7h2v10zm4 0h-2v-4h2v4z\"/>\n",
              "    </g>\n",
              "</svg>\n",
              "  </button>\n",
              "\n",
              "<style>\n",
              "  .colab-df-quickchart {\n",
              "      --bg-color: #E8F0FE;\n",
              "      --fill-color: #1967D2;\n",
              "      --hover-bg-color: #E2EBFA;\n",
              "      --hover-fill-color: #174EA6;\n",
              "      --disabled-fill-color: #AAA;\n",
              "      --disabled-bg-color: #DDD;\n",
              "  }\n",
              "\n",
              "  [theme=dark] .colab-df-quickchart {\n",
              "      --bg-color: #3B4455;\n",
              "      --fill-color: #D2E3FC;\n",
              "      --hover-bg-color: #434B5C;\n",
              "      --hover-fill-color: #FFFFFF;\n",
              "      --disabled-bg-color: #3B4455;\n",
              "      --disabled-fill-color: #666;\n",
              "  }\n",
              "\n",
              "  .colab-df-quickchart {\n",
              "    background-color: var(--bg-color);\n",
              "    border: none;\n",
              "    border-radius: 50%;\n",
              "    cursor: pointer;\n",
              "    display: none;\n",
              "    fill: var(--fill-color);\n",
              "    height: 32px;\n",
              "    padding: 0;\n",
              "    width: 32px;\n",
              "  }\n",
              "\n",
              "  .colab-df-quickchart:hover {\n",
              "    background-color: var(--hover-bg-color);\n",
              "    box-shadow: 0 1px 2px rgba(60, 64, 67, 0.3), 0 1px 3px 1px rgba(60, 64, 67, 0.15);\n",
              "    fill: var(--button-hover-fill-color);\n",
              "  }\n",
              "\n",
              "  .colab-df-quickchart-complete:disabled,\n",
              "  .colab-df-quickchart-complete:disabled:hover {\n",
              "    background-color: var(--disabled-bg-color);\n",
              "    fill: var(--disabled-fill-color);\n",
              "    box-shadow: none;\n",
              "  }\n",
              "\n",
              "  .colab-df-spinner {\n",
              "    border: 2px solid var(--fill-color);\n",
              "    border-color: transparent;\n",
              "    border-bottom-color: var(--fill-color);\n",
              "    animation:\n",
              "      spin 1s steps(1) infinite;\n",
              "  }\n",
              "\n",
              "  @keyframes spin {\n",
              "    0% {\n",
              "      border-color: transparent;\n",
              "      border-bottom-color: var(--fill-color);\n",
              "      border-left-color: var(--fill-color);\n",
              "    }\n",
              "    20% {\n",
              "      border-color: transparent;\n",
              "      border-left-color: var(--fill-color);\n",
              "      border-top-color: var(--fill-color);\n",
              "    }\n",
              "    30% {\n",
              "      border-color: transparent;\n",
              "      border-left-color: var(--fill-color);\n",
              "      border-top-color: var(--fill-color);\n",
              "      border-right-color: var(--fill-color);\n",
              "    }\n",
              "    40% {\n",
              "      border-color: transparent;\n",
              "      border-right-color: var(--fill-color);\n",
              "      border-top-color: var(--fill-color);\n",
              "    }\n",
              "    60% {\n",
              "      border-color: transparent;\n",
              "      border-right-color: var(--fill-color);\n",
              "    }\n",
              "    80% {\n",
              "      border-color: transparent;\n",
              "      border-right-color: var(--fill-color);\n",
              "      border-bottom-color: var(--fill-color);\n",
              "    }\n",
              "    90% {\n",
              "      border-color: transparent;\n",
              "      border-bottom-color: var(--fill-color);\n",
              "    }\n",
              "  }\n",
              "</style>\n",
              "\n",
              "  <script>\n",
              "    async function quickchart(key) {\n",
              "      const quickchartButtonEl =\n",
              "        document.querySelector('#' + key + ' button');\n",
              "      quickchartButtonEl.disabled = true;  // To prevent multiple clicks.\n",
              "      quickchartButtonEl.classList.add('colab-df-spinner');\n",
              "      try {\n",
              "        const charts = await google.colab.kernel.invokeFunction(\n",
              "            'suggestCharts', [key], {});\n",
              "      } catch (error) {\n",
              "        console.error('Error during call to suggestCharts:', error);\n",
              "      }\n",
              "      quickchartButtonEl.classList.remove('colab-df-spinner');\n",
              "      quickchartButtonEl.classList.add('colab-df-quickchart-complete');\n",
              "    }\n",
              "    (() => {\n",
              "      let quickchartButtonEl =\n",
              "        document.querySelector('#df-94c4a800-55b8-4e91-8db9-62cb88b0866a button');\n",
              "      quickchartButtonEl.style.display =\n",
              "        google.colab.kernel.accessAllowed ? 'block' : 'none';\n",
              "    })();\n",
              "  </script>\n",
              "</div>\n",
              "\n",
              "    </div>\n",
              "  </div>\n"
            ],
            "application/vnd.google.colaboratory.intrinsic+json": {
              "type": "dataframe",
              "variable_name": "df",
              "summary": "{\n  \"name\": \"df\",\n  \"rows\": 15,\n  \"fields\": [\n    {\n      \"column\": \"CGPA\",\n      \"properties\": {\n        \"dtype\": \"number\",\n        \"std\": 0.5863527298559494,\n        \"min\": 7.5,\n        \"max\": 9.5,\n        \"num_unique_values\": 13,\n        \"samples\": [\n          8.4,\n          7.9,\n          8.5\n        ],\n        \"semantic_type\": \"\",\n        \"description\": \"\"\n      }\n    },\n    {\n      \"column\": \"Package (LPA)\",\n      \"properties\": {\n        \"dtype\": \"number\",\n        \"std\": 1.8094197965093672,\n        \"min\": 5.0,\n        \"max\": 11.0,\n        \"num_unique_values\": 13,\n        \"samples\": [\n          10.5,\n          7.2,\n          6.0\n        ],\n        \"semantic_type\": \"\",\n        \"description\": \"\"\n      }\n    }\n  ]\n}"
            }
          },
          "metadata": {},
          "execution_count": 4
        }
      ]
    },
    {
      "cell_type": "code",
      "source": [
        "# Extract features (CGPA) and target values (Package)\n",
        "X = df.iloc[:, 0].values\n",
        "y = df.iloc[:, 1].values"
      ],
      "metadata": {
        "id": "F6sNPjfUl4bh"
      },
      "execution_count": 5,
      "outputs": []
    },
    {
      "cell_type": "code",
      "source": [
        "# Split the data into training and testing sets\n",
        "X_train, X_test, y_train, y_test = train_test_split(X, y, test_size=0.2, random_state=2)"
      ],
      "metadata": {
        "id": "TOVP3FZhmOsu"
      },
      "execution_count": 6,
      "outputs": []
    },
    {
      "cell_type": "code",
      "source": [
        "# Display the number of training samples\n",
        "print(\"\\nNumber of training samples:\", X_train.shape[0])"
      ],
      "metadata": {
        "id": "1WyLW56qosbL",
        "outputId": "390d1afb-8323-486e-d2cd-897f4b4188ea",
        "colab": {
          "base_uri": "https://localhost:8080/"
        }
      },
      "execution_count": 7,
      "outputs": [
        {
          "output_type": "stream",
          "name": "stdout",
          "text": [
            "\n",
            "Number of training samples: 12\n"
          ]
        }
      ]
    },
    {
      "cell_type": "code",
      "source": [
        "# Initialize the linear regression model\n",
        "lr = MyLR()"
      ],
      "metadata": {
        "id": "wIwmsfKnp-xt"
      },
      "execution_count": 8,
      "outputs": []
    },
    {
      "cell_type": "code",
      "source": [
        "# Train the model\n",
        "lr.fit(X_train, y_train)"
      ],
      "metadata": {
        "id": "A90C12NxqORK",
        "outputId": "4b47c2e7-8295-47a5-f2c4-08929635573e",
        "colab": {
          "base_uri": "https://localhost:8080/"
        }
      },
      "execution_count": 9,
      "outputs": [
        {
          "output_type": "stream",
          "name": "stdout",
          "text": [
            "Slope (m): 2.799247963233757\n",
            "Intercept (b): -16.10361395445998\n"
          ]
        }
      ]
    },
    {
      "cell_type": "code",
      "source": [
        "# Test prediction for the first value in the test set\n",
        "predicted_value = lr.predict(X_test[0])\n",
        "print(\"\\nPrediction for the first test input:\", predicted_value)"
      ],
      "metadata": {
        "id": "uAGPD6WWtEwh",
        "outputId": "cc711d77-b66f-4c4a-c727-032fd733dfd7",
        "colab": {
          "base_uri": "https://localhost:8080/"
        }
      },
      "execution_count": 10,
      "outputs": [
        {
          "output_type": "stream",
          "name": "stdout",
          "text": [
            "\n",
            "Prediction for the first test input: 6.57029454773345\n"
          ]
        }
      ]
    },
    {
      "cell_type": "code",
      "source": [
        "# Plotting the training data and the regression line\n",
        "plt.scatter(X_train, y_train, label=\"Training Data\", color=\"blue\")\n",
        "plt.plot(X_train, lr.predict(X_train), color=\"red\", label=\"Regression Line\")\n",
        "plt.xlabel(\"CGPA\")\n",
        "plt.ylabel(\"Package (LPA)\")\n",
        "plt.title(\"Linear Regression: CGPA vs Package\")\n",
        "plt.legend()\n",
        "plt.show()"
      ],
      "metadata": {
        "id": "p6ESYp7stG3c",
        "outputId": "d67f9430-aa9c-41f6-cadc-31b400d84123",
        "colab": {
          "base_uri": "https://localhost:8080/",
          "height": 472
        }
      },
      "execution_count": 11,
      "outputs": [
        {
          "output_type": "display_data",
          "data": {
            "text/plain": [
              "<Figure size 640x480 with 1 Axes>"
            ],
            "image/png": "[encoded data removed]"
          },
          "metadata": {}
        }
      ]
    }
  ]
}